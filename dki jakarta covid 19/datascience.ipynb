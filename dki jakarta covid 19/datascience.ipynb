{
 "cells": [
  {
   "cell_type": "markdown",
   "metadata": {},
   "source": [
    "# Soal Dataset\n",
    "\n",
    "## Kelompok Tiga Serangkai"
   ]
  },
  {
   "cell_type": "code",
   "execution_count": 19,
   "metadata": {},
   "outputs": [],
   "source": [
    "# Import necessary modules\n",
    "import pandas as pd\n",
    "import numpy as np\n",
    "import matplotlib.pyplot as plt\n",
    "import seaborn as sns"
   ]
  },
  {
   "cell_type": "code",
   "execution_count": 20,
   "metadata": {},
   "outputs": [],
   "source": [
    "data = pd.read_excel('jakartacovid19.xlsx', engine='openpyxl')\n",
    "\n",
    "# Removing unecessary columns\n",
    "cols = [\n",
    "    \"Unnamed: 17\",\n",
    "    \"Unnamed: 18\",\n",
    "    \"Unnamed: 19\",\n",
    "    \"Unnamed: 20\",\n",
    "    \"Unnamed: 21\",\n",
    "    \"Unnamed: 22\",\n",
    "    \"Unnamed: 23\",\n",
    "    \"Unnamed: 24\",\n",
    "    \"Unnamed: 25\",\n",
    "    \"Unnamed: 26\",\n",
    "    \"Unnamed: 27\",\n",
    "    \"Unnamed: 28\",\n",
    "]\n",
    "data.drop(cols, inplace=True, axis=1)\n"
   ]
  },
  {
   "cell_type": "code",
   "execution_count": 21,
   "metadata": {},
   "outputs": [],
   "source": [
    "posharian = data['Positif Harian']"
   ]
  },
  {
   "cell_type": "markdown",
   "metadata": {},
   "source": [
    "### 1. Tentukan mean, median, modus dari positif COVID-19 harian Jakarta."
   ]
  },
  {
   "cell_type": "code",
   "execution_count": 22,
   "metadata": {},
   "outputs": [
    {
     "name": "stdout",
     "output_type": "stream",
     "text": [
      "1401.0179640718563\n",
      "888.0\n",
      "0    0\n",
      "dtype: int64\n"
     ]
    }
   ],
   "source": [
    "# Mean\n",
    "print(posharian.mean())\n",
    "\n",
    "# Median\n",
    "print(posharian.median())\n",
    "\n",
    "# Modus\n",
    "print(posharian.mode())"
   ]
  },
  {
   "cell_type": "markdown",
   "metadata": {},
   "source": [
    "### 2. Temukan nilai minimal dan maksimal dari positif COVID-19 harian Jakarta."
   ]
  },
  {
   "cell_type": "code",
   "execution_count": 23,
   "metadata": {},
   "outputs": [
    {
     "name": "stdout",
     "output_type": "stream",
     "text": [
      "14619\n",
      "0\n"
     ]
    }
   ],
   "source": [
    "# Maximum\n",
    "print(posharian.max())\n",
    "\n",
    "# Minimum\n",
    "print(posharian.min())"
   ]
  },
  {
   "cell_type": "markdown",
   "metadata": {},
   "source": [
    "### 3. Find outliers"
   ]
  },
  {
   "cell_type": "code",
   "execution_count": 24,
   "metadata": {},
   "outputs": [
    {
     "name": "stdout",
     "output_type": "stream",
     "text": [
      "Kolom Total Pasien memiliki 0 outlier(s):\n",
      "[]\n",
      "\n",
      "\n",
      "Kolom Sembuh memiliki 0 outlier(s):\n",
      "[]\n",
      "\n",
      "\n",
      "Kolom Meninggal memiliki 0 outlier(s):\n",
      "[]\n",
      "\n",
      "\n",
      "Kolom Self Isolation memiliki 58 outlier(s):\n",
      "[    0     0     0     0     0     0     0     0     0     0     0     0\n",
      "     0     0     0     7 18657 19554 19869 19432 18528 18473 19381 20539\n",
      " 19272 19824 18925 21863 20419 21191 19325 17958 18174 19105 20717 21167\n",
      " 22868 26403 29325 33829 38464 42252 45504 47829 49836 53014 54941 59307\n",
      " 62873 65448 69644 72361 73239 71812 68251 66581 71848 78571]\n",
      "\n",
      "\n",
      "Kolom Masih Perawatan memiliki 74 outlier(s):\n",
      "[    0     0     2     2     4     4     4     4    31    31    33    57\n",
      "    65    70    84    78    83    91   121   125   157   177   225   260\n",
      "   290   324   346   364   435   449   451   499   565   584   495   405\n",
      "   417   451   476   495   554   597  8540  9888  9374  8756  9284  9560\n",
      " 10325 11037 11343 11024 12837 14234 15606 17605 18831 19874 20419 22210\n",
      " 24184 25380 27442 27687 28290 29136 30418 29721 26903 24273 20359 16106\n",
      " 18368 21180]\n",
      "\n",
      "\n",
      "Kolom Belum Diketahui (masih verifikasi) memiliki 0 outlier(s):\n",
      "[]\n",
      "\n",
      "\n",
      "Kolom Menunggu Hasil memiliki 0 outlier(s):\n",
      "[]\n",
      "\n",
      "\n",
      "Kolom Tenaga Kesehatan Terinfeksi memiliki 0 outlier(s):\n",
      "[]\n",
      "\n",
      "\n",
      "Kolom Positif Harian memiliki 46 outlier(s):\n",
      "[ 3476  3536  3395  3786  3792  3285  3512  3448  3491  3474  3614  3362\n",
      "  3567  3632  3340  4213  3437  3309  3810  4144  4737  4895  5582  5014\n",
      "  4693  7505  6934  9271  9394  8348  7379  7680  7541  9399  9702 10485\n",
      " 10903  9439  9366 12974 13112 12920 13133 14619 12182 12667]\n",
      "\n",
      "\n",
      "Kolom Positif Aktif memiliki 50 outlier(s):\n",
      "[     0      0      2      2      4      4      4      4     31     31\n",
      "     33     57     65     70     84     85    110    133    178    191\n",
      "    228    254  26031  26029  27112  30142  32060  32191  35705  40637\n",
      "  44931  51434  57295  62126  65923  70039  74020  78394  82383  86994\n",
      "  91163  94584 100062 102082 100142  96085  88610  82687  90216  99751]\n",
      "\n",
      "\n",
      "Kolom Sembuh Harian memiliki 34 outlier(s):\n",
      "[ 3771  4527  3568  3255  3674  4313  4345  4325  4342  3416  3244  4005\n",
      "  5757  4610  4349  3052  3484  3438  3504  3504  3518  5006  5683  5799\n",
      "  6607  5936  3707 10886 14856 16926 20570 20475  4574  3070]\n",
      "\n",
      "\n",
      "Kolom Tanpa Gejala memiliki 0 outlier(s):\n",
      "[]\n",
      "\n",
      "\n",
      "Kolom Bergejala memiliki 0 outlier(s):\n",
      "[]\n",
      "\n",
      "\n",
      "Kolom Belum Ada Data memiliki 0 outlier(s):\n",
      "[]\n",
      "\n",
      "\n"
     ]
    }
   ],
   "source": [
    "# Choose relevant columns\n",
    "outlier_cols = [\n",
    "    'Total Pasien',\n",
    "    'Sembuh',\n",
    "    'Meninggal',\n",
    "    'Self Isolation',\n",
    "    'Masih Perawatan',\n",
    "    'Belum Diketahui (masih verifikasi)',\n",
    "    'Menunggu Hasil',\n",
    "    'Tenaga Kesehatan Terinfeksi',\n",
    "    'Positif Harian',\n",
    "    'Positif Aktif',\n",
    "    'Sembuh Harian',\n",
    "    'Tanpa Gejala',\n",
    "    'Bergejala',\n",
    "    'Belum Ada Data'\n",
    "]\n",
    "\n",
    "# Finding the outlier\n",
    "for col in outlier_cols:\n",
    "    q1 = np.quantile(data[col],0.25)\n",
    "    q3 = np.quantile(data[col],0.75)\n",
    "    med = np.median(data[col])\n",
    "    iqr = q3 - q1\n",
    "    \n",
    "    upper_bound = q3 + (1.5*iqr)\n",
    "    lower_bound = q3- (1.5*iqr) \n",
    "    \n",
    "    outlier = data[col][(data[col] <= lower_bound) | (data[col] >= upper_bound)]\n",
    "    \n",
    "    print(\"Kolom {} memiliki {} outlier(s):\\n{}\\n\\n\".format(col,len(outlier),outlier.values))"
   ]
  },
  {
   "cell_type": "markdown",
   "metadata": {},
   "source": [
    "### 4. Find coorelation"
   ]
  },
  {
   "cell_type": "code",
   "execution_count": 25,
   "metadata": {},
   "outputs": [
    {
     "data": {
      "image/png": "[encoded data removed]",
      "text/plain": [
       "<Figure size 720x720 with 2 Axes>"
      ]
     },
     "metadata": {
      "needs_background": "light"
     },
     "output_type": "display_data"
    }
   ],
   "source": [
    "# Step 1 - Make a scatter plot with square markers, set column names as labels\n",
    "def heatmap(x, y, size, color):\n",
    "    fig, ax = plt.subplots(figsize=(10,10))\n",
    "    plot_grid = plt.GridSpec(1, 15, hspace=0.2, wspace=0.1) # Setup a 1x15 grid\n",
    "    ax = plt.subplot(plot_grid[:,:-1]) # Use the leftmost 14 columns of the grid for the main plot\n",
    "    # Mapping from column names to integer coordinates\n",
    "    x_labels = [v for v in sorted(x.unique())]\n",
    "    y_labels = [v for v in sorted(y.unique())]\n",
    "    x_to_num = {p[1]:p[0] for p in enumerate(x_labels)} \n",
    "    y_to_num = {p[1]:p[0] for p in enumerate(y_labels)} \n",
    "    \n",
    "    \n",
    "    \n",
    "    n_colors = 256 # Use 256 colors for the diverging color palette\n",
    "    palette = sns.diverging_palette(20, 220, n=n_colors) # Create the palette\n",
    "    color_min, color_max = [-1, 1] # Range of values that will be mapped to the palette, i.e. min and max possible correlation\n",
    "    \n",
    "    def value_to_color(val):\t\n",
    "        val_position = float((val - color_min)) / (color_max - color_min) # position of value in the input range, relative to the length of the input range\t\n",
    "        ind = int(val_position * (n_colors - 1)) # target index in the color palette\t\n",
    "        return palette[ind]\n",
    "    \n",
    "    \n",
    "    \n",
    "    size_scale = 1000\n",
    "    ax.scatter(\n",
    "        x=x.map(x_to_num), # Use mapping for x\n",
    "        y=y.map(y_to_num), # Use mapping for y\n",
    "        s=size * size_scale, # Vector of square sizes, proportional to size parameter\n",
    "        c=color.apply(value_to_color), # Vector of square colors, mapped to color palette\t\n",
    "        marker='s' # Use square as scatterplot marker\n",
    "    )\n",
    "    \n",
    "    # Show column labels on the axes\n",
    "    ax.set_xticks([x_to_num[v] for v in x_labels])\n",
    "    ax.set_xticklabels(x_labels, rotation=45, horizontalalignment='right')\n",
    "    ax.set_yticks([y_to_num[v] for v in y_labels])\n",
    "    ax.set_yticklabels(y_labels)\n",
    "    \n",
    "    \n",
    "    ax.grid(False, 'major')\n",
    "    ax.grid(True, 'minor')\n",
    "    ax.set_xticks([t + 0.5 for t in ax.get_xticks()], minor=True)\n",
    "    ax.set_yticks([t + 0.5 for t in ax.get_yticks()], minor=True)\n",
    "    \n",
    "    \n",
    "    \n",
    "    ax = plt.subplot(plot_grid[:,-1]) # Use the rightmost column of the plot\n",
    "\n",
    "    col_x = [0]*len(palette) # Fixed x coordinate for the bars\n",
    "    bar_y=np.linspace(color_min, color_max, n_colors) # y coordinates for each of the n_colors bars\n",
    "\n",
    "    bar_height = bar_y[1] - bar_y[0]\n",
    "    ax.barh(\n",
    "        y=bar_y,\n",
    "        width=[5]*len(palette), # Make bars 5 units wide\n",
    "        left=col_x, # Make bars start at 0\n",
    "        height=bar_height,\n",
    "        color=palette,\n",
    "        linewidth=0\n",
    "    )\n",
    "    ax.set_xlim(1,2) # Bars are going from 0 to 5, so lets crop the plot somewhere in the middle\n",
    "    ax.set_ylim(0,1)\n",
    "    ax.grid(False) # Hide grid\n",
    "    ax.set_facecolor('white') # Make background white\n",
    "    ax.set_xticks([]) # Remove horizontal ticks\n",
    "    ax.set_yticks(np.linspace(min(bar_y), max(bar_y), 3)) # Show vertical ticks for min, middle and max\n",
    "    ax.yaxis.tick_right() # Show vertical ticks on the right \n",
    "    \n",
    "    \n",
    "data = data\n",
    "columns = [\n",
    "    'Total Pasien',\n",
    "     'Sembuh',\n",
    "     'Meninggal',\n",
    "     'Self Isolation',\n",
    "     'Masih Perawatan',\n",
    "     'Positif Harian',\n",
    "     'Positif Aktif',\n",
    "     'Sembuh Harian',\n",
    "     'Tanpa Gejala',\n",
    "     'Bergejala',\n",
    "     'Belum Ada Data'\n",
    "    \n",
    "] \n",
    "corr = data[columns].corr()\n",
    "corr = pd.melt(corr.reset_index(), id_vars='index') # Unpivot the dataframe, so we can get pair of arrays for x and y\n",
    "corr.columns = ['x', 'y', 'value']\n",
    "heatmap(\n",
    "    x=corr['x'],\n",
    "    y=corr['y'],\n",
    "    size=corr['value'].abs(),\n",
    "    color=corr['value']\n",
    ")"
   ]
  }
 ],
 "metadata": {
  "kernelspec": {
   "display_name": "Python 3",
   "language": "python",
   "name": "python3"
  },
  "language_info": {
   "codemirror_mode": {
    "name": "ipython",
    "version": 3
   },
   "file_extension": ".py",
   "mimetype": "text/x-python",
   "name": "python",
   "nbconvert_exporter": "python",
   "pygments_lexer": "ipython3",
   "version": "3.8.3"
  }
 },
 "nbformat": 4,
 "nbformat_minor": 4
}
